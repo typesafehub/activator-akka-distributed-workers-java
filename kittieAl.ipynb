{
  "nbformat": 4,
  "nbformat_minor": 0,
  "metadata": {
    "colab": {
      "provenance": [],
      "authorship_tag": "ABX9TyMEIs50eRRlXt22vx24TEbf",
      "include_colab_link": true
    },
    "kernelspec": {
      "name": "python3",
      "display_name": "Python 3"
    },
    "language_info": {
      "name": "python"
    }
  },
  "cells": [
    {
      "cell_type": "markdown",
      "metadata": {
        "id": "view-in-github",
        "colab_type": "text"
      },
      "source": [
        "<a href=\"https://colab.research.google.com/github/anant1525/activator-akka-distributed-workers-java/blob/master/kittieAl.ipynb\" target=\"_parent\"><img src=\"https://colab.research.google.com/assets/colab-badge.svg\" alt=\"Open In Colab\"/></a>"
      ]
    },
    {
      "cell_type": "code",
      "execution_count": 145,
      "metadata": {
        "id": "4oZjqFeGhlJT"
      },
      "outputs": [],
      "source": [
        "# importing time module\n",
        "import time"
      ]
    },
    {
      "cell_type": "code",
      "source": [
        "# forming the intial disctionary\n",
        "\n",
        "Dict = {0: 'Anant', 1: 'Govind', 2: 'Amit', 3: 'Anuj', 4: 'Yash', 5: 'Karan'}\n",
        "#print(Dict)"
      ],
      "metadata": {
        "id": "UDO3HbtljtBU"
      },
      "execution_count": 146,
      "outputs": []
    },
    {
      "cell_type": "code",
      "source": [
        "# Get the time in nanoseconds\n",
        "# since the epoch\n",
        "# using time.time_ns() method\n",
        "time_nanosec = time.time_ns()\n",
        "\n",
        "# Print the time\n",
        "# in nanoseconds since the epoch\n",
        "print(\"Time in nanoseconds since the epoch:\", time_nanosec)"
      ],
      "metadata": {
        "colab": {
          "base_uri": "https://localhost:8080/"
        },
        "id": "-C4pIY-9igsE",
        "outputId": "dc0a8a4d-951a-4b20-cfd3-d3440c349880"
      },
      "execution_count": 147,
      "outputs": [
        {
          "output_type": "stream",
          "name": "stdout",
          "text": [
            "Time in nanoseconds since the epoch: 1702192665356612285\n"
          ]
        }
      ]
    },
    {
      "cell_type": "code",
      "source": [
        "# This will do the modulo\n",
        "modulo = time_nanosec % 6"
      ],
      "metadata": {
        "id": "7gjOwfsOihEi"
      },
      "execution_count": 148,
      "outputs": []
    },
    {
      "cell_type": "code",
      "source": [
        "# optional part of printing the modulo\n",
        "print(\"modulo 6 is:\", modulo)"
      ],
      "metadata": {
        "colab": {
          "base_uri": "https://localhost:8080/"
        },
        "id": "KfgKBVa4ihaK",
        "outputId": "5a31edc6-2060-4456-8a45-f47269cb50f6"
      },
      "execution_count": 149,
      "outputs": [
        {
          "output_type": "stream",
          "name": "stdout",
          "text": [
            "modulo 6 is: 5\n"
          ]
        }
      ]
    },
    {
      "cell_type": "code",
      "source": [
        "print (\"This cycle kitty goes to:\", Dict[int(modulo)])"
      ],
      "metadata": {
        "colab": {
          "base_uri": "https://localhost:8080/"
        },
        "id": "tqay4umckby6",
        "outputId": "5443d25c-e3ef-4b29-b9cb-acf61306a255"
      },
      "execution_count": 150,
      "outputs": [
        {
          "output_type": "stream",
          "name": "stdout",
          "text": [
            "This cycle kitty goes to: Karan\n"
          ]
        }
      ]
    }
  ]
}